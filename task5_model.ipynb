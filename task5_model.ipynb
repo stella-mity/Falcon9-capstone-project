{
 "cells": [
  {
   "cell_type": "markdown",
   "metadata": {},
   "source": [
    "### Task 5 - Predictive Modelling"
   ]
  },
  {
   "cell_type": "code",
   "execution_count": null,
   "metadata": {},
   "outputs": [],
   "source": [
    "import pandas as pd\n",
    "import numpy as np\n",
    "\n",
    "from sklearn.model_selection import StratifiedKFold\n",
    "from sklearn.metrics import accuracy_score, confusion_matrix, f1_score\n",
    "\n",
    "import seaborn as sns\n",
    "import matplotlib.pyplot as plt"
   ]
  },
  {
   "cell_type": "code",
   "execution_count": null,
   "metadata": {},
   "outputs": [
    {
     "data": {
      "text/html": [
       "<div>\n",
       "<style scoped>\n",
       "    .dataframe tbody tr th:only-of-type {\n",
       "        vertical-align: middle;\n",
       "    }\n",
       "\n",
       "    .dataframe tbody tr th {\n",
       "        vertical-align: top;\n",
       "    }\n",
       "\n",
       "    .dataframe thead th {\n",
       "        text-align: right;\n",
       "    }\n",
       "</style>\n",
       "<table border=\"1\" class=\"dataframe\">\n",
       "  <thead>\n",
       "    <tr style=\"text-align: right;\">\n",
       "      <th></th>\n",
       "      <th>FlightNumber</th>\n",
       "      <th>Date</th>\n",
       "      <th>Hour</th>\n",
       "      <th>Minute</th>\n",
       "      <th>BoosterVersion</th>\n",
       "      <th>PayloadMass</th>\n",
       "      <th>Orbit</th>\n",
       "      <th>LaunchSite</th>\n",
       "      <th>Serial</th>\n",
       "      <th>Block</th>\n",
       "      <th>Longitude</th>\n",
       "      <th>Latitude</th>\n",
       "      <th>Outcome</th>\n",
       "      <th>LandingPlace</th>\n",
       "      <th>Year</th>\n",
       "      <th>Month</th>\n",
       "      <th>Day</th>\n",
       "      <th>Flights</th>\n",
       "      <th>Reused</th>\n",
       "    </tr>\n",
       "  </thead>\n",
       "  <tbody>\n",
       "    <tr>\n",
       "      <th>0</th>\n",
       "      <td>1</td>\n",
       "      <td>2010-06-04</td>\n",
       "      <td>18</td>\n",
       "      <td>45</td>\n",
       "      <td>Falcon 9</td>\n",
       "      <td>0.0</td>\n",
       "      <td>LEO</td>\n",
       "      <td>CCSFS SLC 40</td>\n",
       "      <td>B0003</td>\n",
       "      <td>1.0</td>\n",
       "      <td>-80.577366</td>\n",
       "      <td>28.561857</td>\n",
       "      <td>0</td>\n",
       "      <td>Ocean</td>\n",
       "      <td>2010</td>\n",
       "      <td>6</td>\n",
       "      <td>4</td>\n",
       "      <td>1</td>\n",
       "      <td>False</td>\n",
       "    </tr>\n",
       "    <tr>\n",
       "      <th>1</th>\n",
       "      <td>2</td>\n",
       "      <td>2010-12-08</td>\n",
       "      <td>15</td>\n",
       "      <td>43</td>\n",
       "      <td>Falcon 9</td>\n",
       "      <td>2115.0</td>\n",
       "      <td>ISS</td>\n",
       "      <td>CCSFS SLC 40</td>\n",
       "      <td>B0004</td>\n",
       "      <td>1.0</td>\n",
       "      <td>-80.577366</td>\n",
       "      <td>28.561857</td>\n",
       "      <td>0</td>\n",
       "      <td>Ocean</td>\n",
       "      <td>2010</td>\n",
       "      <td>12</td>\n",
       "      <td>8</td>\n",
       "      <td>1</td>\n",
       "      <td>False</td>\n",
       "    </tr>\n",
       "    <tr>\n",
       "      <th>2</th>\n",
       "      <td>6</td>\n",
       "      <td>2013-09-29</td>\n",
       "      <td>16</td>\n",
       "      <td>0</td>\n",
       "      <td>Falcon 9</td>\n",
       "      <td>500.0</td>\n",
       "      <td>PO</td>\n",
       "      <td>VSFB SLC 4E</td>\n",
       "      <td>B1003</td>\n",
       "      <td>1.0</td>\n",
       "      <td>-120.610829</td>\n",
       "      <td>34.632093</td>\n",
       "      <td>0</td>\n",
       "      <td>Ocean</td>\n",
       "      <td>2013</td>\n",
       "      <td>9</td>\n",
       "      <td>29</td>\n",
       "      <td>1</td>\n",
       "      <td>False</td>\n",
       "    </tr>\n",
       "    <tr>\n",
       "      <th>3</th>\n",
       "      <td>9</td>\n",
       "      <td>2014-04-18</td>\n",
       "      <td>19</td>\n",
       "      <td>25</td>\n",
       "      <td>Falcon 9</td>\n",
       "      <td>2296.0</td>\n",
       "      <td>ISS</td>\n",
       "      <td>CCSFS SLC 40</td>\n",
       "      <td>B1015</td>\n",
       "      <td>1.0</td>\n",
       "      <td>-80.577366</td>\n",
       "      <td>28.561857</td>\n",
       "      <td>1</td>\n",
       "      <td>Ocean</td>\n",
       "      <td>2014</td>\n",
       "      <td>4</td>\n",
       "      <td>18</td>\n",
       "      <td>1</td>\n",
       "      <td>False</td>\n",
       "    </tr>\n",
       "    <tr>\n",
       "      <th>4</th>\n",
       "      <td>10</td>\n",
       "      <td>2014-07-14</td>\n",
       "      <td>15</td>\n",
       "      <td>15</td>\n",
       "      <td>Falcon 9</td>\n",
       "      <td>1316.0</td>\n",
       "      <td>LEO</td>\n",
       "      <td>CCSFS SLC 40</td>\n",
       "      <td>B1018</td>\n",
       "      <td>1.0</td>\n",
       "      <td>-80.577366</td>\n",
       "      <td>28.561857</td>\n",
       "      <td>1</td>\n",
       "      <td>Ocean</td>\n",
       "      <td>2014</td>\n",
       "      <td>7</td>\n",
       "      <td>14</td>\n",
       "      <td>1</td>\n",
       "      <td>False</td>\n",
       "    </tr>\n",
       "  </tbody>\n",
       "</table>\n",
       "</div>"
      ],
      "text/plain": [
       "   FlightNumber        Date  Hour  Minute BoosterVersion  PayloadMass Orbit  \\\n",
       "0             1  2010-06-04    18      45       Falcon 9          0.0   LEO   \n",
       "1             2  2010-12-08    15      43       Falcon 9       2115.0   ISS   \n",
       "2             6  2013-09-29    16       0       Falcon 9        500.0    PO   \n",
       "3             9  2014-04-18    19      25       Falcon 9       2296.0   ISS   \n",
       "4            10  2014-07-14    15      15       Falcon 9       1316.0   LEO   \n",
       "\n",
       "     LaunchSite Serial  Block   Longitude   Latitude  Outcome LandingPlace  \\\n",
       "0  CCSFS SLC 40  B0003    1.0  -80.577366  28.561857        0        Ocean   \n",
       "1  CCSFS SLC 40  B0004    1.0  -80.577366  28.561857        0        Ocean   \n",
       "2   VSFB SLC 4E  B1003    1.0 -120.610829  34.632093        0        Ocean   \n",
       "3  CCSFS SLC 40  B1015    1.0  -80.577366  28.561857        1        Ocean   \n",
       "4  CCSFS SLC 40  B1018    1.0  -80.577366  28.561857        1        Ocean   \n",
       "\n",
       "   Year  Month  Day  Flights  Reused  \n",
       "0  2010      6    4        1   False  \n",
       "1  2010     12    8        1   False  \n",
       "2  2013      9   29        1   False  \n",
       "3  2014      4   18        1   False  \n",
       "4  2014      7   14        1   False  "
      ]
     },
     "execution_count": 2,
     "metadata": {},
     "output_type": "execute_result"
    }
   ],
   "source": [
    "# Load data\n",
    "df = pd.read_csv(\"datasets/falcon9_dataset.csv\")\n",
    "df.head()"
   ]
  },
  {
   "cell_type": "code",
   "execution_count": null,
   "metadata": {},
   "outputs": [
    {
     "data": {
      "text/plain": [
       "Year              int64\n",
       "Month             int64\n",
       "Day               int64\n",
       "Hour              int64\n",
       "Minute            int64\n",
       "PayloadMass     float64\n",
       "LaunchSite       object\n",
       "Orbit            object\n",
       "Serial           object\n",
       "Block           float64\n",
       "LandingPlace     object\n",
       "Flights           int64\n",
       "Reused             bool\n",
       "Outcome           int64\n",
       "dtype: object"
      ]
     },
     "execution_count": 3,
     "metadata": {},
     "output_type": "execute_result"
    }
   ],
   "source": [
    "df = df[['Year','Month','Day','Hour','Minute','PayloadMass','LaunchSite',\n",
    "         'Orbit','Serial','Block','LandingPlace','Flights','Reused','Outcome']]\n",
    "df.dtypes"
   ]
  },
  {
   "cell_type": "code",
   "execution_count": null,
   "metadata": {},
   "outputs": [
    {
     "name": "stdout",
     "output_type": "stream",
     "text": [
      "All predict 1 accuracy = 0.9396551724137931\n"
     ]
    }
   ],
   "source": [
    "n_fail = sum(df['Outcome'] == 0)\n",
    "total = len(df)\n",
    "print(f'All predict 1 accuracy = {(total-n_fail)/total}')"
   ]
  },
  {
   "cell_type": "markdown",
   "metadata": {},
   "source": [
    "### Categorical features to numerical data (one-hot encoding)"
   ]
  },
  {
   "cell_type": "code",
   "execution_count": null,
   "metadata": {},
   "outputs": [
    {
     "data": {
      "text/html": [
       "<div>\n",
       "<style scoped>\n",
       "    .dataframe tbody tr th:only-of-type {\n",
       "        vertical-align: middle;\n",
       "    }\n",
       "\n",
       "    .dataframe tbody tr th {\n",
       "        vertical-align: top;\n",
       "    }\n",
       "\n",
       "    .dataframe thead th {\n",
       "        text-align: right;\n",
       "    }\n",
       "</style>\n",
       "<table border=\"1\" class=\"dataframe\">\n",
       "  <thead>\n",
       "    <tr style=\"text-align: right;\">\n",
       "      <th></th>\n",
       "      <th>PayloadMass</th>\n",
       "      <th>Reused</th>\n",
       "      <th>Year_2010</th>\n",
       "      <th>Year_2013</th>\n",
       "      <th>Year_2014</th>\n",
       "      <th>Year_2015</th>\n",
       "      <th>Year_2016</th>\n",
       "      <th>Year_2017</th>\n",
       "      <th>Year_2018</th>\n",
       "      <th>Year_2019</th>\n",
       "      <th>...</th>\n",
       "      <th>Block_3.0</th>\n",
       "      <th>Block_4.0</th>\n",
       "      <th>Block_5.0</th>\n",
       "      <th>LaunchSite_CCSFS SLC 40</th>\n",
       "      <th>LaunchSite_KSC LC 39A</th>\n",
       "      <th>LaunchSite_VSFB SLC 4E</th>\n",
       "      <th>LandingPlace_Drone ship</th>\n",
       "      <th>LandingPlace_Ground pad</th>\n",
       "      <th>LandingPlace_Ocean</th>\n",
       "      <th>Outcome</th>\n",
       "    </tr>\n",
       "  </thead>\n",
       "  <tbody>\n",
       "    <tr>\n",
       "      <th>0</th>\n",
       "      <td>0.0</td>\n",
       "      <td>False</td>\n",
       "      <td>1.0</td>\n",
       "      <td>0.0</td>\n",
       "      <td>0.0</td>\n",
       "      <td>0.0</td>\n",
       "      <td>0.0</td>\n",
       "      <td>0.0</td>\n",
       "      <td>0.0</td>\n",
       "      <td>0.0</td>\n",
       "      <td>...</td>\n",
       "      <td>0.0</td>\n",
       "      <td>0.0</td>\n",
       "      <td>0.0</td>\n",
       "      <td>1.0</td>\n",
       "      <td>0.0</td>\n",
       "      <td>0.0</td>\n",
       "      <td>0.0</td>\n",
       "      <td>0.0</td>\n",
       "      <td>1.0</td>\n",
       "      <td>0</td>\n",
       "    </tr>\n",
       "    <tr>\n",
       "      <th>1</th>\n",
       "      <td>2115.0</td>\n",
       "      <td>False</td>\n",
       "      <td>1.0</td>\n",
       "      <td>0.0</td>\n",
       "      <td>0.0</td>\n",
       "      <td>0.0</td>\n",
       "      <td>0.0</td>\n",
       "      <td>0.0</td>\n",
       "      <td>0.0</td>\n",
       "      <td>0.0</td>\n",
       "      <td>...</td>\n",
       "      <td>0.0</td>\n",
       "      <td>0.0</td>\n",
       "      <td>0.0</td>\n",
       "      <td>1.0</td>\n",
       "      <td>0.0</td>\n",
       "      <td>0.0</td>\n",
       "      <td>0.0</td>\n",
       "      <td>0.0</td>\n",
       "      <td>1.0</td>\n",
       "      <td>0</td>\n",
       "    </tr>\n",
       "    <tr>\n",
       "      <th>2</th>\n",
       "      <td>500.0</td>\n",
       "      <td>False</td>\n",
       "      <td>0.0</td>\n",
       "      <td>1.0</td>\n",
       "      <td>0.0</td>\n",
       "      <td>0.0</td>\n",
       "      <td>0.0</td>\n",
       "      <td>0.0</td>\n",
       "      <td>0.0</td>\n",
       "      <td>0.0</td>\n",
       "      <td>...</td>\n",
       "      <td>0.0</td>\n",
       "      <td>0.0</td>\n",
       "      <td>0.0</td>\n",
       "      <td>0.0</td>\n",
       "      <td>0.0</td>\n",
       "      <td>1.0</td>\n",
       "      <td>0.0</td>\n",
       "      <td>0.0</td>\n",
       "      <td>1.0</td>\n",
       "      <td>0</td>\n",
       "    </tr>\n",
       "    <tr>\n",
       "      <th>3</th>\n",
       "      <td>2296.0</td>\n",
       "      <td>False</td>\n",
       "      <td>0.0</td>\n",
       "      <td>0.0</td>\n",
       "      <td>1.0</td>\n",
       "      <td>0.0</td>\n",
       "      <td>0.0</td>\n",
       "      <td>0.0</td>\n",
       "      <td>0.0</td>\n",
       "      <td>0.0</td>\n",
       "      <td>...</td>\n",
       "      <td>0.0</td>\n",
       "      <td>0.0</td>\n",
       "      <td>0.0</td>\n",
       "      <td>1.0</td>\n",
       "      <td>0.0</td>\n",
       "      <td>0.0</td>\n",
       "      <td>0.0</td>\n",
       "      <td>0.0</td>\n",
       "      <td>1.0</td>\n",
       "      <td>1</td>\n",
       "    </tr>\n",
       "    <tr>\n",
       "      <th>4</th>\n",
       "      <td>1316.0</td>\n",
       "      <td>False</td>\n",
       "      <td>0.0</td>\n",
       "      <td>0.0</td>\n",
       "      <td>1.0</td>\n",
       "      <td>0.0</td>\n",
       "      <td>0.0</td>\n",
       "      <td>0.0</td>\n",
       "      <td>0.0</td>\n",
       "      <td>0.0</td>\n",
       "      <td>...</td>\n",
       "      <td>0.0</td>\n",
       "      <td>0.0</td>\n",
       "      <td>0.0</td>\n",
       "      <td>1.0</td>\n",
       "      <td>0.0</td>\n",
       "      <td>0.0</td>\n",
       "      <td>0.0</td>\n",
       "      <td>0.0</td>\n",
       "      <td>1.0</td>\n",
       "      <td>1</td>\n",
       "    </tr>\n",
       "  </tbody>\n",
       "</table>\n",
       "<p>5 rows × 36 columns</p>\n",
       "</div>"
      ],
      "text/plain": [
       "   PayloadMass  Reused  Year_2010  Year_2013  Year_2014  Year_2015  Year_2016  \\\n",
       "0          0.0   False        1.0        0.0        0.0        0.0        0.0   \n",
       "1       2115.0   False        1.0        0.0        0.0        0.0        0.0   \n",
       "2        500.0   False        0.0        1.0        0.0        0.0        0.0   \n",
       "3       2296.0   False        0.0        0.0        1.0        0.0        0.0   \n",
       "4       1316.0   False        0.0        0.0        1.0        0.0        0.0   \n",
       "\n",
       "   Year_2017  Year_2018  Year_2019  ...  Block_3.0  Block_4.0  Block_5.0  \\\n",
       "0        0.0        0.0        0.0  ...        0.0        0.0        0.0   \n",
       "1        0.0        0.0        0.0  ...        0.0        0.0        0.0   \n",
       "2        0.0        0.0        0.0  ...        0.0        0.0        0.0   \n",
       "3        0.0        0.0        0.0  ...        0.0        0.0        0.0   \n",
       "4        0.0        0.0        0.0  ...        0.0        0.0        0.0   \n",
       "\n",
       "   LaunchSite_CCSFS SLC 40  LaunchSite_KSC LC 39A  LaunchSite_VSFB SLC 4E  \\\n",
       "0                      1.0                    0.0                     0.0   \n",
       "1                      1.0                    0.0                     0.0   \n",
       "2                      0.0                    0.0                     1.0   \n",
       "3                      1.0                    0.0                     0.0   \n",
       "4                      1.0                    0.0                     0.0   \n",
       "\n",
       "   LandingPlace_Drone ship  LandingPlace_Ground pad  LandingPlace_Ocean  \\\n",
       "0                      0.0                      0.0                 1.0   \n",
       "1                      0.0                      0.0                 1.0   \n",
       "2                      0.0                      0.0                 1.0   \n",
       "3                      0.0                      0.0                 1.0   \n",
       "4                      0.0                      0.0                 1.0   \n",
       "\n",
       "   Outcome  \n",
       "0        0  \n",
       "1        0  \n",
       "2        0  \n",
       "3        1  \n",
       "4        1  \n",
       "\n",
       "[5 rows x 36 columns]"
      ]
     },
     "execution_count": 5,
     "metadata": {},
     "output_type": "execute_result"
    }
   ],
   "source": [
    "from sklearn.preprocessing import OneHotEncoder\n",
    "\n",
    "encoder = OneHotEncoder()\n",
    "\n",
    "# df['Year'] = df['Year'].astype(str)\n",
    "year_encoded = encoder.fit_transform(df[['Year']])\n",
    "year_encoded_df = pd.DataFrame(year_encoded.toarray(), columns=encoder.get_feature_names_out(['Year']))\n",
    "\n",
    "hour_encoded = encoder.fit_transform(df[['Hour']])\n",
    "hour_encoded_df = pd.DataFrame(hour_encoded.toarray(), columns=encoder.get_feature_names_out(['Hour']))\n",
    "\n",
    "launchsite_encoded = encoder.fit_transform(df[['LaunchSite']])\n",
    "launchsite_encoded_df = pd.DataFrame(launchsite_encoded.toarray(), columns=encoder.get_feature_names_out(['LaunchSite']))\n",
    "\n",
    "orbit_encoded = encoder.fit_transform(df[['Orbit']])\n",
    "orbit_encoded_df = pd.DataFrame(orbit_encoded.toarray(), columns=encoder.get_feature_names_out(['Orbit']))\n",
    "\n",
    "# serial_encoded = encoder.fit_transform(df[['Serial']])\n",
    "# serial_encoded_df = pd.DataFrame(serial_encoded.toarray(), columns=encoder.get_feature_names_out(['Serial']))\n",
    "\n",
    "block_encoded = encoder.fit_transform(df[['Block']])\n",
    "block_encoded_df = pd.DataFrame(block_encoded.toarray(), columns=encoder.get_feature_names_out(['Block']))\n",
    "\n",
    "landingplace_encoded = encoder.fit_transform(df[['LandingPlace']])\n",
    "landingplace_encoded_df = pd.DataFrame(landingplace_encoded.toarray(), columns=encoder.get_feature_names_out(['LandingPlace']))\n",
    "\n",
    "encoded_df = pd.concat([df[['PayloadMass','Reused']], year_encoded_df,\n",
    "                        orbit_encoded_df, block_encoded_df, launchsite_encoded_df,\n",
    "                        landingplace_encoded_df, df['Outcome']], axis=1)\n",
    "\n",
    "\n",
    "X = encoded_df.iloc[:, :-1]\n",
    "y = encoded_df['Outcome']\n",
    "\n",
    "encoded_df.head()"
   ]
  },
  {
   "cell_type": "markdown",
   "metadata": {},
   "source": [
    "### Standardization"
   ]
  },
  {
   "cell_type": "code",
   "execution_count": null,
   "metadata": {},
   "outputs": [],
   "source": [
    "from sklearn.preprocessing import StandardScaler\n",
    "\n",
    "transformer = StandardScaler()\n",
    "X['PayloadMass'] = transformer.fit_transform(X[['PayloadMass']])"
   ]
  },
  {
   "cell_type": "markdown",
   "metadata": {},
   "source": [
    "### Split data into training and testing"
   ]
  },
  {
   "cell_type": "code",
   "execution_count": null,
   "metadata": {},
   "outputs": [
    {
     "name": "stdout",
     "output_type": "stream",
     "text": [
      "(174, 35) (58, 35) (174,) (58,)\n"
     ]
    }
   ],
   "source": [
    "from sklearn.model_selection import train_test_split\n",
    "\n",
    "X_train, X_test, y_train, y_test = train_test_split(X, y, test_size=0.25, stratify=y, shuffle=True, random_state=111)\n",
    "print(X_train.shape, X_test.shape, y_train.shape, y_test.shape)"
   ]
  },
  {
   "cell_type": "markdown",
   "metadata": {},
   "source": [
    "### Modelling"
   ]
  },
  {
   "cell_type": "code",
   "execution_count": null,
   "metadata": {},
   "outputs": [],
   "source": [
    "skf = StratifiedKFold(n_splits=5, shuffle=True, random_state=20)"
   ]
  },
  {
   "cell_type": "markdown",
   "metadata": {},
   "source": [
    "### Model1: KNN"
   ]
  },
  {
   "cell_type": "code",
   "execution_count": null,
   "metadata": {},
   "outputs": [
    {
     "name": "stdout",
     "output_type": "stream",
     "text": [
      "Knn average accuracy = 0.9597701149425287, F1 score = 0.9788519637462235\n"
     ]
    }
   ],
   "source": [
    "from sklearn.neighbors import KNeighborsClassifier\n",
    "\n",
    "knn_pred_cls = []\n",
    "knn_pred_prob = []\n",
    "knn_true_cls = []\n",
    "for train_index, val_index in skf.split(X_train, y_train):\n",
    "    X_train_fold, X_val_fold = X_train.iloc[train_index], X_train.iloc[val_index]\n",
    "    y_train_fold, y_val_fold = y_train.iloc[train_index], y_train.iloc[val_index]\n",
    "\n",
    "    knn = KNeighborsClassifier(n_neighbors=3)\n",
    "    knn.fit(X_train_fold, y_train_fold)\n",
    "\n",
    "    knn_pred_prob.append(knn.predict_proba(X_val_fold))\n",
    "    knn_pred_cls.append(knn.predict(X_val_fold))\n",
    "    knn_true_cls.append(y_val_fold)\n",
    "\n",
    "knn_pred_cls = np.concatenate(knn_pred_cls)\n",
    "knn_pred_prob = np.concatenate(knn_pred_prob)\n",
    "knn_true_cls = np.concatenate(knn_true_cls)\n",
    "\n",
    "knn_acc = accuracy_score(knn_true_cls, knn_pred_cls)\n",
    "knn_f1 = f1_score(knn_true_cls, knn_pred_cls)\n",
    "knn_cm = confusion_matrix(knn_true_cls, knn_pred_cls)\n",
    "\n",
    "print(f'Knn average accuracy = {knn_acc}, F1 score = {knn_f1}')"
   ]
  },
  {
   "cell_type": "code",
   "execution_count": null,
   "metadata": {},
   "outputs": [
    {
     "data": {
      "image/png": "[encoded data removed]",
      "text/plain": [
       "<Figure size 576x432 with 2 Axes>"
      ]
     },
     "metadata": {
      "needs_background": "light"
     },
     "output_type": "display_data"
    }
   ],
   "source": [
    "# plot confusion matrix\n",
    "classes = np.unique(knn_true_cls)\n",
    "plt.figure(figsize=(8, 6))\n",
    "sns.heatmap(knn_cm, annot=True, cmap='Oranges', fmt='g', xticklabels=classes, yticklabels=classes, annot_kws={\"fontsize\": 20})\n",
    "plt.xlabel('Predicted labels', fontsize=15)\n",
    "plt.ylabel('True labels', fontsize=15)\n",
    "plt.title('KNN Confusion Matrix', fontsize=15)\n",
    "plt.show()"
   ]
  },
  {
   "cell_type": "code",
   "execution_count": null,
   "metadata": {},
   "outputs": [
    {
     "name": "stdout",
     "output_type": "stream",
     "text": [
      "KNN test accuracy = 0.9482758620689655, F1 score = 0.972972972972973\n"
     ]
    },
    {
     "data": {
      "image/png": "[encoded data removed]",
      "text/plain": [
       "<Figure size 576x432 with 2 Axes>"
      ]
     },
     "metadata": {
      "needs_background": "light"
     },
     "output_type": "display_data"
    }
   ],
   "source": [
    "# KNN test\n",
    "knn_test_pred = knn.predict(X_test)\n",
    "knn_test_prob = knn.predict_proba(X_test)\n",
    "\n",
    "knn_test_acc = accuracy_score(y_test, knn_test_pred)\n",
    "knn_test_f1 = f1_score(y_test, knn_test_pred)\n",
    "knn_test_cm = confusion_matrix(y_test, knn_test_pred)\n",
    "print(f'KNN test accuracy = {knn_test_acc}, F1 score = {knn_test_f1}')\n",
    "\n",
    "classes = np.unique(y_test)\n",
    "plt.figure(figsize=(8, 6))\n",
    "sns.heatmap(knn_test_cm, annot=True, cmap='Oranges', fmt='g', xticklabels=classes, yticklabels=classes, annot_kws={\"fontsize\": 20})\n",
    "plt.xlabel('Predicted labels', fontsize=15)\n",
    "plt.ylabel('True labels', fontsize=15)\n",
    "plt.title('KNN Confusion Matrix', fontsize=15)\n",
    "plt.show()"
   ]
  },
  {
   "cell_type": "markdown",
   "metadata": {},
   "source": [
    "### Model 2: Gradient Boosting"
   ]
  },
  {
   "cell_type": "code",
   "execution_count": null,
   "metadata": {},
   "outputs": [
    {
     "name": "stdout",
     "output_type": "stream",
     "text": [
      "Gradient Boosting average accuracy = 0.9597701149425287, F1 score = 0.9787234042553191\n",
      "[ 57 101 150  66  21  84]\n"
     ]
    }
   ],
   "source": [
    "from xgboost import XGBClassifier\n",
    "\n",
    "xgb_pred_cls = []\n",
    "xgb_pred_prob = []\n",
    "xgb_true_cls = []\n",
    "tn_indices = []\n",
    "\n",
    "for train_index, val_index in skf.split(X_train, y_train):\n",
    "    X_train_fold, X_val_fold = X_train.iloc[train_index], X_train.iloc[val_index]\n",
    "    y_train_fold, y_val_fold = y_train.iloc[train_index], y_train.iloc[val_index]\n",
    "\n",
    "    # Train the XGBClassifier\n",
    "    xgb = XGBClassifier(n_estimators=150, learning_rate=0.05, max_depth=3, use_label_encoder=False, eval_metric='logloss')\n",
    "    xgb.fit(X_train_fold, y_train_fold)\n",
    "\n",
    "    # Predict the validation fold\n",
    "    y_pred_fold = xgb.predict(X_val_fold)\n",
    "    y_prob_fold = xgb.predict_proba(X_val_fold)\n",
    "\n",
    "    # Append the predictions and true labels\n",
    "    xgb_pred_cls.append(y_pred_fold)\n",
    "    xgb_pred_prob.append(y_prob_fold)\n",
    "    xgb_true_cls.append(y_val_fold)\n",
    "\n",
    "    # Identify TN instances for the fold\n",
    "    tn_mask = (y_pred_fold == 0) & (y_val_fold == 0)\n",
    "    tn_indices.append(val_index[tn_mask])\n",
    "\n",
    "# Concatenate the results\n",
    "xgb_pred_cls = np.concatenate(xgb_pred_cls)\n",
    "xgb_pred_prob = np.concatenate(xgb_pred_prob)\n",
    "xgb_true_cls = np.concatenate(xgb_true_cls)\n",
    "\n",
    "# Evaluate the overall performance\n",
    "xgb_acc = accuracy_score(xgb_true_cls, xgb_pred_cls)\n",
    "xgb_f1 = f1_score(xgb_true_cls, xgb_pred_cls)\n",
    "xgb_cm = confusion_matrix(xgb_true_cls, xgb_pred_cls)\n",
    "\n",
    "print(f'Gradient Boosting average accuracy = {xgb_acc}, F1 score = {xgb_f1}')\n",
    "\n",
    "# Concatenate all true negative indices from all folds\n",
    "tn_indices = np.concatenate(tn_indices)\n",
    "print(tn_indices)"
   ]
  },
  {
   "cell_type": "code",
   "execution_count": null,
   "metadata": {},
   "outputs": [
    {
     "data": {
      "image/png": "[encoded data removed]",
      "text/plain": [
       "<Figure size 576x432 with 2 Axes>"
      ]
     },
     "metadata": {
      "needs_background": "light"
     },
     "output_type": "display_data"
    }
   ],
   "source": [
    "# plot confusion matrix\n",
    "classes = np.unique(xgb_true_cls)\n",
    "plt.figure(figsize=(8, 6))\n",
    "sns.heatmap(xgb_cm, annot=True, cmap='Oranges', fmt='g', xticklabels=classes, yticklabels=classes, annot_kws={\"fontsize\": 20})\n",
    "plt.xlabel('Predicted labels', fontsize=15)\n",
    "plt.ylabel('True labels', fontsize=15)\n",
    "plt.title('Gradient Boosting Confusion Matrix', fontsize=15)\n",
    "plt.show()"
   ]
  },
  {
   "cell_type": "code",
   "execution_count": null,
   "metadata": {},
   "outputs": [
    {
     "name": "stdout",
     "output_type": "stream",
     "text": [
      "Gradient Boosting test accuracy = 0.9482758620689655, F1 score = 0.9724770642201835\n"
     ]
    },
    {
     "data": {
      "image/png": "[encoded data removed]",
      "text/plain": [
       "<Figure size 576x432 with 2 Axes>"
      ]
     },
     "metadata": {
      "needs_background": "light"
     },
     "output_type": "display_data"
    }
   ],
   "source": [
    "# Gradient Boosting test\n",
    "xgb_test_pred = xgb.predict(X_test)\n",
    "xgb_test_prob = xgb.predict_proba(X_test)\n",
    "\n",
    "xgb_test_acc = accuracy_score(y_test, xgb_test_pred)\n",
    "xgb_test_f1 = f1_score(y_test, xgb_test_pred)\n",
    "xgb_test_cm = confusion_matrix(y_test, xgb_test_pred)\n",
    "print(f'Gradient Boosting test accuracy = {xgb_test_acc}, F1 score = {xgb_test_f1}')\n",
    "\n",
    "classes = np.unique(y_test)\n",
    "plt.figure(figsize=(8, 6))\n",
    "sns.heatmap(xgb_test_cm, annot=True, cmap='Oranges', fmt='g', xticklabels=classes, yticklabels=classes, annot_kws={\"fontsize\": 20})\n",
    "plt.xlabel('Predicted labels', fontsize=15)\n",
    "plt.ylabel('True labels', fontsize=15)\n",
    "plt.title('Gradient Boosting Confusion Matrix', fontsize=15)\n",
    "plt.show()"
   ]
  },
  {
   "cell_type": "markdown",
   "metadata": {},
   "source": [
    "### Model 3: Bagging Classifier"
   ]
  },
  {
   "cell_type": "code",
   "execution_count": null,
   "metadata": {},
   "outputs": [
    {
     "name": "stdout",
     "output_type": "stream",
     "text": [
      "Bagging average accuracy = 0.9540229885057471, F1 score = 0.975609756097561\n",
      "[ 57 101 150  66 116  21]\n"
     ]
    }
   ],
   "source": [
    "from sklearn.ensemble import BaggingClassifier\n",
    "\n",
    "bagging_pred_cls = []\n",
    "bagging_pred_prob = []\n",
    "bagging_true_cls = []\n",
    "tn_indices = []\n",
    "\n",
    "for train_index, val_index in skf.split(X_train, y_train):\n",
    "    X_train_fold, X_val_fold = X_train.iloc[train_index], X_train.iloc[val_index]\n",
    "    y_train_fold, y_val_fold = y_train.iloc[train_index], y_train.iloc[val_index]\n",
    "\n",
    "    # Train the BaggingClassifier\n",
    "    bagging = BaggingClassifier(n_estimators=10, random_state=3)\n",
    "    bagging.fit(X_train_fold, y_train_fold)\n",
    "\n",
    "    # Predict the validation fold\n",
    "    y_pred_fold = bagging.predict(X_val_fold)\n",
    "    y_prob_fold = bagging.predict_proba(X_val_fold)\n",
    "\n",
    "    # Append the predictions and true labels\n",
    "    bagging_pred_cls.append(y_pred_fold)\n",
    "    bagging_pred_prob.append(y_prob_fold)\n",
    "    bagging_true_cls.append(y_val_fold)\n",
    "\n",
    "    # Identify TN instances for the fold\n",
    "    tn_mask = (y_pred_fold == 0) & (y_val_fold == 0)\n",
    "    tn_indices.append(val_index[tn_mask])\n",
    "\n",
    "# Concatenate the results\n",
    "bagging_pred_cls = np.concatenate(bagging_pred_cls)\n",
    "bagging_pred_prob = np.concatenate(bagging_pred_prob)\n",
    "bagging_true_cls = np.concatenate(bagging_true_cls)\n",
    "\n",
    "# Evaluate the overall performance\n",
    "bagging_acc = accuracy_score(bagging_true_cls, bagging_pred_cls)\n",
    "bagging_f1 = f1_score(bagging_true_cls, bagging_pred_cls)\n",
    "bagging_cm = confusion_matrix(bagging_true_cls, bagging_pred_cls)\n",
    "\n",
    "print(f'Bagging average accuracy = {bagging_acc}, F1 score = {bagging_f1}')\n",
    "\n",
    "# Concatenate all true negative indices from all folds\n",
    "tn_indices = np.concatenate(tn_indices)\n",
    "print(tn_indices)"
   ]
  },
  {
   "cell_type": "code",
   "execution_count": null,
   "metadata": {},
   "outputs": [
    {
     "data": {
      "image/png": "[encoded data removed]",
      "text/plain": [
       "<Figure size 576x432 with 2 Axes>"
      ]
     },
     "metadata": {
      "needs_background": "light"
     },
     "output_type": "display_data"
    }
   ],
   "source": [
    "# plot confusion matrix\n",
    "classes = np.unique(bagging_true_cls)\n",
    "plt.figure(figsize=(8, 6))\n",
    "sns.heatmap(bagging_cm, annot=True, cmap='Oranges', fmt='g', xticklabels=classes, yticklabels=classes, annot_kws={\"fontsize\": 20})\n",
    "plt.xlabel('Predicted labels', fontsize=15)\n",
    "plt.ylabel('True labels', fontsize=15)\n",
    "plt.title('Bagging Confusion Matrix', fontsize=15)\n",
    "plt.show()"
   ]
  },
  {
   "cell_type": "code",
   "execution_count": null,
   "metadata": {},
   "outputs": [
    {
     "name": "stdout",
     "output_type": "stream",
     "text": [
      "Bagging test accuracy = 0.9655172413793104, F1 score = 0.9818181818181818\n"
     ]
    },
    {
     "data": {
      "image/png": "[encoded data removed]",
      "text/plain": [
       "<Figure size 576x432 with 2 Axes>"
      ]
     },
     "metadata": {
      "needs_background": "light"
     },
     "output_type": "display_data"
    }
   ],
   "source": [
    "# Bagging test\n",
    "bagging_test_pred = bagging.predict(X_test)\n",
    "bagging_test_prob = bagging.predict_proba(X_test)\n",
    "\n",
    "bagging_test_acc = accuracy_score(y_test, bagging_test_pred)\n",
    "bagging_test_f1 = f1_score(y_test, bagging_test_pred)\n",
    "bagging_test_cm = confusion_matrix(y_test, bagging_test_pred)\n",
    "print(f'Bagging test accuracy = {bagging_test_acc}, F1 score = {bagging_test_f1}')\n",
    "\n",
    "classes = np.unique(y_test)\n",
    "plt.figure(figsize=(8, 6))\n",
    "sns.heatmap(bagging_test_cm, annot=True, cmap='Oranges', fmt='g', xticklabels=classes, yticklabels=classes, annot_kws={\"fontsize\": 20})\n",
    "plt.xlabel('Predicted labels', fontsize=15)\n",
    "plt.ylabel('True labels', fontsize=15)\n",
    "plt.title('Bagging Confusion Matrix', fontsize=15)\n",
    "plt.show()"
   ]
  },
  {
   "cell_type": "markdown",
   "metadata": {},
   "source": [
    "### Model 4: Ensemble method"
   ]
  },
  {
   "cell_type": "code",
   "execution_count": null,
   "metadata": {},
   "outputs": [
    {
     "name": "stdout",
     "output_type": "stream",
     "text": [
      "Ensemble method accuracy = 0.9655172413793104, F1 score = 0.9817073170731707\n"
     ]
    }
   ],
   "source": [
    "from collections import Counter\n",
    "\n",
    "ensemble_pred_cls = []\n",
    "\n",
    "for knn_pred, bagging_pred, xgb_pred in zip(knn_pred_cls, bagging_pred_cls, xgb_pred_cls):\n",
    "    preds = [knn_pred, bagging_pred, xgb_pred]\n",
    "\n",
    "    counter = Counter(preds)\n",
    "    # Find the most common element\n",
    "    most_common_element = counter.most_common(1)[0][0]\n",
    "\n",
    "    ensemble_pred_cls.append(most_common_element)\n",
    "\n",
    "\n",
    "ensemble_acc = accuracy_score(knn_true_cls, ensemble_pred_cls)\n",
    "ensemble_f1 = f1_score(knn_true_cls, ensemble_pred_cls)\n",
    "ensemble_cm = confusion_matrix(knn_true_cls, ensemble_pred_cls)\n",
    "\n",
    "print(f'Ensemble method accuracy = {ensemble_acc}, F1 score = {ensemble_f1}')"
   ]
  },
  {
   "cell_type": "code",
   "execution_count": null,
   "metadata": {},
   "outputs": [
    {
     "data": {
      "image/png": "[encoded data removed]",
      "text/plain": [
       "<Figure size 576x432 with 2 Axes>"
      ]
     },
     "metadata": {
      "needs_background": "light"
     },
     "output_type": "display_data"
    }
   ],
   "source": [
    "classes = np.unique(knn_true_cls)\n",
    "plt.figure(figsize=(8, 6))\n",
    "sns.heatmap(ensemble_cm, annot=True, cmap='Oranges', fmt='g', xticklabels=classes, yticklabels=classes, annot_kws={\"fontsize\": 20})\n",
    "plt.xlabel('Predicted labels', fontsize=15)\n",
    "plt.ylabel('True labels', fontsize=15)\n",
    "plt.title('Ensemble Method Confusion Matrix', fontsize=15)\n",
    "plt.show()"
   ]
  },
  {
   "cell_type": "code",
   "execution_count": null,
   "metadata": {},
   "outputs": [
    {
     "name": "stdout",
     "output_type": "stream",
     "text": [
      "Ensemble method accuracy = 0.9655172413793104, F1 score = 0.9818181818181818\n"
     ]
    }
   ],
   "source": [
    "ensemble_pred_cls = []\n",
    "\n",
    "for knn_pred, bagging_pred, xgb_pred in zip(knn_test_pred, bagging_test_pred, xgb_test_pred):\n",
    "    preds = [knn_pred, bagging_pred, xgb_pred]\n",
    "\n",
    "    counter = Counter(preds)\n",
    "    # Find the most common element\n",
    "    most_common_element = counter.most_common(1)[0][0]\n",
    "\n",
    "    ensemble_pred_cls.append(most_common_element)\n",
    "\n",
    "\n",
    "ensemble_acc = accuracy_score(y_test, ensemble_pred_cls)\n",
    "ensemble_f1 = f1_score(y_test, ensemble_pred_cls)\n",
    "ensemble_cm = confusion_matrix(y_test, ensemble_pred_cls)\n",
    "\n",
    "print(f'Ensemble method accuracy = {ensemble_acc}, F1 score = {ensemble_f1}')"
   ]
  },
  {
   "cell_type": "code",
   "execution_count": null,
   "metadata": {},
   "outputs": [
    {
     "data": {
      "image/png": "[encoded data removed]",
      "text/plain": [
       "<Figure size 576x432 with 2 Axes>"
      ]
     },
     "metadata": {
      "needs_background": "light"
     },
     "output_type": "display_data"
    }
   ],
   "source": [
    "classes = np.unique(xgb_true_cls)\n",
    "plt.figure(figsize=(8, 6))\n",
    "sns.heatmap(ensemble_cm, annot=True, cmap='Oranges', fmt='g', xticklabels=classes, yticklabels=classes, annot_kws={\"fontsize\": 20})\n",
    "plt.xlabel('Predicted labels', fontsize=15)\n",
    "plt.ylabel('True labels', fontsize=15)\n",
    "plt.title('Ensemble Method Confusion Matrix', fontsize=15)\n",
    "plt.show()"
   ]
  }
 ],
 "metadata": {
  "kernelspec": {
   "display_name": "Python 3",
   "language": "python",
   "name": "python3"
  },
  "language_info": {
   "codemirror_mode": {
    "name": "ipython",
    "version": 3
   },
   "file_extension": ".py",
   "mimetype": "text/x-python",
   "name": "python",
   "nbconvert_exporter": "python",
   "pygments_lexer": "ipython3",
   "version": "3.10.7"
  }
 },
 "nbformat": 4,
 "nbformat_minor": 2
}
