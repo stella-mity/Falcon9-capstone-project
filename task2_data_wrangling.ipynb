{
 "cells": [
  {
   "cell_type": "markdown",
   "metadata": {},
   "source": [
    "### Task 2 - Data Wrangling"
   ]
  },
  {
   "cell_type": "markdown",
   "metadata": {},
   "source": [
    "##### I will use the wikipedia data as my main dataset, and the spaceX-API data will be used to fill in the missing values of the wikipedia dataset."
   ]
  },
  {
   "cell_type": "code",
   "execution_count": 1,
   "metadata": {},
   "outputs": [],
   "source": [
    "import pandas as pd"
   ]
  },
  {
   "cell_type": "code",
   "execution_count": 2,
   "metadata": {},
   "outputs": [],
   "source": [
    "# Load data collected from task 1\n",
    "api_df = pd.read_csv(\"datasets/api_dataset.csv\")\n",
    "wp_df = pd.read_csv(\"datasets/wp_dataset.csv\")"
   ]
  },
  {
   "cell_type": "code",
   "execution_count": 3,
   "metadata": {},
   "outputs": [],
   "source": [
    "# Remove the entries that indicate no attempt to land the booster\n",
    "wp_df = wp_df[wp_df[\"Outcome\"] != \"No attempt\"]"
   ]
  },
  {
   "cell_type": "code",
   "execution_count": 4,
   "metadata": {},
   "outputs": [
    {
     "data": {
      "text/plain": [
       "232"
      ]
     },
     "execution_count": 4,
     "metadata": {},
     "output_type": "execute_result"
    }
   ],
   "source": [
    "# Check the number of entries in the dataset\n",
    "len(wp_df)"
   ]
  },
  {
   "cell_type": "code",
   "execution_count": 5,
   "metadata": {},
   "outputs": [
    {
     "data": {
      "text/html": [
       "<div>\n",
       "<style scoped>\n",
       "    .dataframe tbody tr th:only-of-type {\n",
       "        vertical-align: middle;\n",
       "    }\n",
       "\n",
       "    .dataframe tbody tr th {\n",
       "        vertical-align: top;\n",
       "    }\n",
       "\n",
       "    .dataframe thead th {\n",
       "        text-align: right;\n",
       "    }\n",
       "</style>\n",
       "<table border=\"1\" class=\"dataframe\">\n",
       "  <thead>\n",
       "    <tr style=\"text-align: right;\">\n",
       "      <th></th>\n",
       "      <th>ColumnName</th>\n",
       "      <th>MissingValuePercent</th>\n",
       "    </tr>\n",
       "  </thead>\n",
       "  <tbody>\n",
       "    <tr>\n",
       "      <th>0</th>\n",
       "      <td>FlightNumber</td>\n",
       "      <td>0.000000</td>\n",
       "    </tr>\n",
       "    <tr>\n",
       "      <th>1</th>\n",
       "      <td>Date</td>\n",
       "      <td>0.000000</td>\n",
       "    </tr>\n",
       "    <tr>\n",
       "      <th>2</th>\n",
       "      <td>Hour</td>\n",
       "      <td>0.000000</td>\n",
       "    </tr>\n",
       "    <tr>\n",
       "      <th>3</th>\n",
       "      <td>Minute</td>\n",
       "      <td>0.000000</td>\n",
       "    </tr>\n",
       "    <tr>\n",
       "      <th>4</th>\n",
       "      <td>BoosterVersion</td>\n",
       "      <td>0.000000</td>\n",
       "    </tr>\n",
       "    <tr>\n",
       "      <th>5</th>\n",
       "      <td>PayloadMass</td>\n",
       "      <td>6.465517</td>\n",
       "    </tr>\n",
       "    <tr>\n",
       "      <th>6</th>\n",
       "      <td>Orbit</td>\n",
       "      <td>0.000000</td>\n",
       "    </tr>\n",
       "    <tr>\n",
       "      <th>7</th>\n",
       "      <td>LaunchSite</td>\n",
       "      <td>0.000000</td>\n",
       "    </tr>\n",
       "    <tr>\n",
       "      <th>8</th>\n",
       "      <td>Serial</td>\n",
       "      <td>0.862069</td>\n",
       "    </tr>\n",
       "    <tr>\n",
       "      <th>9</th>\n",
       "      <td>Block</td>\n",
       "      <td>0.862069</td>\n",
       "    </tr>\n",
       "    <tr>\n",
       "      <th>10</th>\n",
       "      <td>Longitude</td>\n",
       "      <td>0.000000</td>\n",
       "    </tr>\n",
       "    <tr>\n",
       "      <th>11</th>\n",
       "      <td>Latitude</td>\n",
       "      <td>0.000000</td>\n",
       "    </tr>\n",
       "    <tr>\n",
       "      <th>12</th>\n",
       "      <td>Outcome</td>\n",
       "      <td>0.000000</td>\n",
       "    </tr>\n",
       "    <tr>\n",
       "      <th>13</th>\n",
       "      <td>LandingPlace</td>\n",
       "      <td>0.000000</td>\n",
       "    </tr>\n",
       "  </tbody>\n",
       "</table>\n",
       "</div>"
      ],
      "text/plain": [
       "        ColumnName  MissingValuePercent\n",
       "0     FlightNumber             0.000000\n",
       "1             Date             0.000000\n",
       "2             Hour             0.000000\n",
       "3           Minute             0.000000\n",
       "4   BoosterVersion             0.000000\n",
       "5      PayloadMass             6.465517\n",
       "6            Orbit             0.000000\n",
       "7       LaunchSite             0.000000\n",
       "8           Serial             0.862069\n",
       "9            Block             0.862069\n",
       "10       Longitude             0.000000\n",
       "11        Latitude             0.000000\n",
       "12         Outcome             0.000000\n",
       "13    LandingPlace             0.000000"
      ]
     },
     "execution_count": 5,
     "metadata": {},
     "output_type": "execute_result"
    }
   ],
   "source": [
    "# Check the percentage of missing values for each column\n",
    "missing =  wp_df.isna().sum()*100/len(wp_df)\n",
    "missing = pd.DataFrame(missing.reset_index())\n",
    "missing = missing.rename(columns={\"index\": \"ColumnName\", 0:\"MissingValuePercent\"})\n",
    "missing"
   ]
  },
  {
   "cell_type": "code",
   "execution_count": 6,
   "metadata": {},
   "outputs": [],
   "source": [
    "# Fill the Serial and Block missing values by matching the Date column with the SpaceX API datasets\n",
    "merge_df = wp_df.merge(api_df[[\"Date\", \"Serial\", \"Block\"]], on=\"Date\", how=\"left\")\n",
    "\n",
    "wp_df[\"Serial\"].fillna(merge_df[\"Serial_y\"], inplace=True)\n",
    "wp_df[\"Block\"].fillna(merge_df[\"Block_y\"], inplace=True)\n",
    "wp_df[\"Serial\"].fillna(merge_df[\"Serial_y\"], inplace=True)"
   ]
  },
  {
   "cell_type": "code",
   "execution_count": 7,
   "metadata": {},
   "outputs": [],
   "source": [
    "# Add year column\n",
    "wp_df[\"Year\"] = wp_df.Date.str.split(\"-\").str[0]\n",
    "\n",
    "# Add month column\n",
    "wp_df[\"Month\"] = wp_df.Date.str.split(\"-\").str[1]\n",
    "\n",
    "# Add day column\n",
    "wp_df[\"Day\"] = wp_df.Date.str.split(\"-\").str[2]\n",
    "\n",
    "# Add Flight column - the number of flights with the core\n",
    "wp_df[\"Flights\"] = wp_df.groupby(\"Serial\").cumcount()+1\n",
    "\n",
    "# Add Reused column - whether the core is reused\n",
    "wp_df[\"Reused\"] =  wp_df[\"Flights\"] > 1"
   ]
  },
  {
   "cell_type": "code",
   "execution_count": 8,
   "metadata": {},
   "outputs": [],
   "source": [
    "# Fill the PayloadMass missing values by the mean value of payload mass for the same (Orbit, Block, Outcome) pairs\n",
    "\n",
    "# compute average mass value of each (Orbit, Block, Outcome) pair\n",
    "mean_mass = round(wp_df.groupby([\"Orbit\", \"Block\", \"Outcome\"])[\"PayloadMass\"].mean().reset_index())\n",
    "mean_mass\n",
    "\n",
    "merge_df = wp_df.merge(mean_mass[[\"Orbit\", \"Block\", \"PayloadMass\", \"Outcome\"]], on=[\"Orbit\", \"Block\",\"Outcome\"], how=\"left\")\n",
    "merge_df = merge_df.reset_index()\n",
    "wp_df = wp_df.reset_index()\n",
    "\n",
    "# fill the missing values\n",
    "wp_df[\"PayloadMass\"].fillna(merge_df[\"PayloadMass_y\"], inplace=True)\n",
    "wp_df = wp_df.drop(\"index\", axis=1)\n"
   ]
  },
  {
   "cell_type": "code",
   "execution_count": 9,
   "metadata": {},
   "outputs": [
    {
     "data": {
      "text/plain": [
       "FlightNumber      0\n",
       "Date              0\n",
       "Hour              0\n",
       "Minute            0\n",
       "BoosterVersion    0\n",
       "PayloadMass       0\n",
       "Orbit             0\n",
       "LaunchSite        0\n",
       "Serial            0\n",
       "Block             0\n",
       "Longitude         0\n",
       "Latitude          0\n",
       "Outcome           0\n",
       "LandingPlace      0\n",
       "Year              0\n",
       "Month             0\n",
       "Day               0\n",
       "Flights           0\n",
       "Reused            0\n",
       "dtype: int64"
      ]
     },
     "execution_count": 9,
     "metadata": {},
     "output_type": "execute_result"
    }
   ],
   "source": [
    "# Recheck the number of missing values\n",
    "missing = wp_df.isna().sum()\n",
    "missing"
   ]
  },
  {
   "cell_type": "code",
   "execution_count": 10,
   "metadata": {},
   "outputs": [
    {
     "data": {
      "text/plain": [
       "FlightNumber        int64\n",
       "Date               object\n",
       "Hour                int64\n",
       "Minute              int64\n",
       "BoosterVersion     object\n",
       "PayloadMass       float64\n",
       "Orbit              object\n",
       "LaunchSite         object\n",
       "Serial             object\n",
       "Block             float64\n",
       "Longitude         float64\n",
       "Latitude          float64\n",
       "Outcome            object\n",
       "LandingPlace       object\n",
       "Year               object\n",
       "Month              object\n",
       "Day                object\n",
       "Flights             int64\n",
       "Reused               bool\n",
       "dtype: object"
      ]
     },
     "execution_count": 10,
     "metadata": {},
     "output_type": "execute_result"
    }
   ],
   "source": [
    "# Check the type of each column\n",
    "wp_df.dtypes"
   ]
  },
  {
   "cell_type": "code",
   "execution_count": 11,
   "metadata": {},
   "outputs": [],
   "source": [
    "# Revise the columns' type\n",
    "string_to_boolean = {\"True\":1, \"False\":0}\n",
    "wp_df['Outcome'] = wp_df['Outcome'].map(string_to_boolean)\n",
    "wp_df['Year'] = wp_df['Year'].astype(int)\n",
    "wp_df['Month'] = wp_df['Month'].astype(int)\n",
    "wp_df['Day'] = wp_df['Day'].astype(int)"
   ]
  },
  {
   "cell_type": "code",
   "execution_count": 12,
   "metadata": {},
   "outputs": [],
   "source": [
    "# wp_df.to_csv(\"datasets/falcon9_dataset.csv\", sep=\",\", index=False)"
   ]
  }
 ],
 "metadata": {
  "kernelspec": {
   "display_name": "Python 3",
   "language": "python",
   "name": "python3"
  },
  "language_info": {
   "codemirror_mode": {
    "name": "ipython",
    "version": 3
   },
   "file_extension": ".py",
   "mimetype": "text/x-python",
   "name": "python",
   "nbconvert_exporter": "python",
   "pygments_lexer": "ipython3",
   "version": "3.10.7"
  },
  "orig_nbformat": 4
 },
 "nbformat": 4,
 "nbformat_minor": 2
}
